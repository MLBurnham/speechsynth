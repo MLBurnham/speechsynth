{
 "cells": [
  {
   "cell_type": "markdown",
   "metadata": {},
   "source": [
    "pix2pix implementation for mel emotional spectrogram generation.\n",
    "Spectrograms are scaled to work with google's wavenet.\n",
    "https://github.com/junyanz/pytorch-CycleGAN-and-pix2pix"
   ]
  },
  {
   "cell_type": "markdown",
   "metadata": {},
   "source": [
    "# Prep Env and Data"
   ]
  },
  {
   "cell_type": "code",
   "execution_count": null,
   "metadata": {},
   "outputs": [],
   "source": [
    "import os\n",
    "\n",
    "# navigate to pix2pix folder, clone the repositor, then navigate to repository\n",
    "os.chdir('../pix2pix')\n",
    "!git clone https://github.com/junyanz/pytorch-CycleGAN-and-pix2pix\n",
    "os.chdir('pytorch-CycleGAN-and-pix2pix/')\n",
    "\n",
    "# activate virtual environment, then install\n",
    "!pip install -r requirements.txt\n",
    "\n",
    "# If needed, use the following to create training data\n",
    "!bash python datasets/combine_A_and_B.py --fold_A '../drive/My Drive/pix2pix_angry/A' --fold_B '../drive/My Drive/pix2pix_angry/B' --fold_AB '../drive/My Drive/pix2pix_angry/AB'"
   ]
  },
  {
   "cell_type": "markdown",
   "metadata": {},
   "source": [
    "# Train"
   ]
  },
  {
   "cell_type": "code",
   "execution_count": null,
   "metadata": {},
   "outputs": [],
   "source": [
    "# 80x128 images\n",
    "!python train.py --dataroot '../../git repository/spectrograms/pix2pix_angry/AB' --name mel_pix2pix --model pix2pix --preprocess crop --crop_size 80 --direction AtoB --netG resnet_6blocks --n_epochs 300 --n_epochs_decay 300 --checkpoints_dir './checkpoints' # --epoch_count 264 --continue_train"
   ]
  },
  {
   "cell_type": "markdown",
   "metadata": {},
   "source": [
    "# Test"
   ]
  },
  {
   "cell_type": "code",
   "execution_count": null,
   "metadata": {},
   "outputs": [],
   "source": [
    "!python test.py --dataroot '../drive/My Drive/pix2pix_angry/AB' --direction AtoB --model pix2pix --name mel_pix2pix"
   ]
  },
  {
   "cell_type": "markdown",
   "metadata": {},
   "source": [
    "# Visualize"
   ]
  },
  {
   "cell_type": "code",
   "execution_count": null,
   "metadata": {},
   "outputs": [],
   "source": [
    "import matplotlib.pyplot as plt\n",
    "\n",
    "img = plt.imread('./results/mel_pix2pix/test_latest/images/03-01-01-01-01_fake_B.png')\n",
    "plt.imshow(img)\n",
    "\n",
    "img = plt.imread('./results/mel_pix2pix/test_latest/images/03-01-01-01-01_real_A.png')\n",
    "plt.imshow(img)\n",
    "\n",
    "img = plt.imread('./results/mel_pix2pix/test_latest/images/03-01-01-01-01_real_B.png')\n",
    "plt.imshow(img)"
   ]
  }
 ],
 "metadata": {
  "kernelspec": {
   "display_name": "Python 3",
   "language": "python",
   "name": "python3"
  },
  "language_info": {
   "codemirror_mode": {
    "name": "ipython",
    "version": 3
   },
   "file_extension": ".py",
   "mimetype": "text/x-python",
   "name": "python",
   "nbconvert_exporter": "python",
   "pygments_lexer": "ipython3",
   "version": "3.8.2"
  }
 },
 "nbformat": 4,
 "nbformat_minor": 4
}
