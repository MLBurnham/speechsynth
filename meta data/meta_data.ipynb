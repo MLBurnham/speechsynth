{
 "cells": [
  {
   "cell_type": "code",
   "execution_count": 2,
   "metadata": {},
   "outputs": [],
   "source": [
    "from os import listdir\n",
    "import pandas as pd"
   ]
  },
  {
   "cell_type": "markdown",
   "metadata": {},
   "source": [
    "# Tess Data Set"
   ]
  },
  {
   "cell_type": "code",
   "execution_count": 3,
   "metadata": {},
   "outputs": [],
   "source": [
    "# Get a list of all the audio files in the data set\n",
    "folders = listdir('../Data/tess')\n",
    "\n",
    "af = []\n",
    "for folder in folders:\n",
    "    temp = listdir('../Data/tess/'+folder)\n",
    "    af += temp"
   ]
  },
  {
   "cell_type": "markdown",
   "metadata": {},
   "source": [
    "# Ryerson data set"
   ]
  },
  {
   "cell_type": "code",
   "execution_count": 32,
   "metadata": {},
   "outputs": [],
   "source": [
    "# Get a list of all the audio files in the data set\n",
    "folders = listdir('../Data/ryerson')\n",
    "\n",
    "af = []\n",
    "for folder in folders:\n",
    "    temp = listdir('../Data/ryerson/'+folder)\n",
    "    af += temp"
   ]
  },
  {
   "cell_type": "code",
   "execution_count": 33,
   "metadata": {},
   "outputs": [],
   "source": [
    "# create dictionaries for recoding the data\n",
    "emotion_dict = {\n",
    "    '01': 'neutral',\n",
    "    '02': 'calm', # eliminate\n",
    "    '03': 'happy',\n",
    "    '04': 'sad',\n",
    "    '05': 'angry',\n",
    "    '06': 'fearful',\n",
    "    '07': 'disgust',\n",
    "    '08': 'surprised' # eliminate\n",
    "}\n",
    "\n",
    "intensity_dict = {\n",
    "    '01': 'medium',\n",
    "    '02': 'high'\n",
    "}\n",
    "\n",
    "statement_dict = {\n",
    "    '01': 'Kids are talking by the door',\n",
    "    '02': 'Dogs are sitting by the door'\n",
    "}\n",
    "\n",
    "# get meta data from the file name\n",
    "emotion = [file[6:8] for file in af]\n",
    "intensity = [file[9:11] for file in af]\n",
    "statement = [file[12:14] for file in af]\n",
    "repitition = [file[15:17] for file in af]\n",
    "actor = [file[18:20] for file in af]\n",
    "\n",
    "# replace numbers with strings\n",
    "emotion = [emotion_dict[num] for num in emotion]\n",
    "intensity = [intensity_dict[num] for num in intensity]\n",
    "statement = [statement_dict[num] for num in statement]\n",
    "\n",
    "# create a data dictionary\n",
    "data = {\n",
    "    'file': af,\n",
    "    'emotion': emotion,\n",
    "    'intensity': intensity,\n",
    "    'statement': statement,\n",
    "    'repitition': repitition,\n",
    "    'actor': actor\n",
    "}\n",
    "\n",
    "# create data frame\n",
    "df = pd.DataFrame(data = data)\n",
    "\n",
    "# export csv\n",
    "df.to_csv('ryerson_meta_all.csv', index = False)\n",
    "\n",
    "# subset the data to common emotions, first repition, and high intensity\n",
    "# keep only samples for the listed emotions\n",
    "emot_samp = ['neutral', 'sad', 'disgust', 'happy', 'angry', 'fearful']\n",
    "df = df[df['emotion'].isin(emot_samp)]\n",
    "# keep only the first repitition\n",
    "df = df[df['repitition'] == '01']\n",
    "# recode neutral to high intensity\n",
    "df.loc[df['emotion'] == 'neutral', 'intensity'] = 'high'\n",
    "# drop everything that isn't high intensity\n",
    "df = df[df['intensity'] == 'high']\n",
    "\n",
    "df.to_csv('ryerson_meta_sub.csv', index = False)"
   ]
  },
  {
   "cell_type": "markdown",
   "metadata": {},
   "source": [
    "# CREMA-D Data Set"
   ]
  },
  {
   "cell_type": "code",
   "execution_count": 73,
   "metadata": {},
   "outputs": [],
   "source": [
    "# list files in the data set\n",
    "af = listdir('../Data/crema-d/AudioWAV')\n",
    "\n",
    "# Get meta data from file names\n",
    "actor_id = [file[0:4] for file in af]\n",
    "statement = [file[5:8] for file in af]\n",
    "emotion = [file[9:12] for file in af]\n",
    "intensity = [file[13:15] for file in af]\n",
    "\n",
    "# Create dicitonaries to recode data\n",
    "statement_dict = {\n",
    "    'IEO': \"It's eleven o'clock\",\n",
    "    'TIE': \"That is exactly what happened\",\n",
    "    'IOM': \"I'm on my way to the meeting\",\n",
    "    'IWW': \"I wonder what this is about\",\n",
    "    'TAI': \"The airplane is almost full\",\n",
    "    'MTI': \"Maybe tomorrow it will be cold\",\n",
    "    'IWL': \"I would like a new alarm clock\",\n",
    "    'ITH': \"I think I have a doctor's appointment\",\n",
    "    'DFA': \"Don't forget a jacket\",\n",
    "    'ITS': \"I think I've seen this before\",\n",
    "    'TSI': \"The surface is slick\",\n",
    "    'WSI': \"We'll stop in a couple of minutes\",\n",
    "}\n",
    "\n",
    "emotion_dict = {\n",
    "    'ANG': 'anger',\n",
    "    'DIS': 'disgust',\n",
    "    'FEA': 'fearful',\n",
    "    'HAP': 'happy',\n",
    "    'NEU': 'neutral',\n",
    "    'SAD': 'sad'\n",
    "}\n",
    "\n",
    "intensity_dict = {\n",
    "    'LO': 'low',\n",
    "    'MD': 'medium',\n",
    "    'HI': 'high',\n",
    "    'XX': 'unspecified',\n",
    "    'X.': 'unspecified'\n",
    "}\n",
    "\n",
    "# replace numbers with strings\n",
    "emotion = [emotion_dict[num] for num in emotion]\n",
    "intensity = [intensity_dict[num] for num in intensity]\n",
    "statement = [statement_dict[num] for num in statement]\n",
    "\n",
    "# create a data dictionary\n",
    "data = {\n",
    "    'file': af,\n",
    "    'emotion': emotion,\n",
    "    'intensity': intensity,\n",
    "    'statement': statement,\n",
    "    'actor': actor_id\n",
    "}\n",
    "\n",
    "# create data frame\n",
    "df = pd.DataFrame(data = data)\n",
    "\n",
    "# export csv\n",
    "df.to_csv('cremad_meta_all.csv', index = False)\n",
    "\n",
    "# drop low and medium intensity so that each neutral statement per actor only has one counterpart per emotion\n",
    "df = df[df['intensity'].isin(['high', 'unspecified'])]\n",
    "df.to_csv('cremad_meta_sub.csv', index = False)"
   ]
  }
 ],
 "metadata": {
  "kernelspec": {
   "display_name": "Python 3",
   "language": "python",
   "name": "python3"
  },
  "language_info": {
   "codemirror_mode": {
    "name": "ipython",
    "version": 3
   },
   "file_extension": ".py",
   "mimetype": "text/x-python",
   "name": "python",
   "nbconvert_exporter": "python",
   "pygments_lexer": "ipython3",
   "version": "3.8.2"
  }
 },
 "nbformat": 4,
 "nbformat_minor": 4
}
